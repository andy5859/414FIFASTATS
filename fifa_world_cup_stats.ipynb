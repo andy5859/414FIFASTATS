{
 "cells": [
  {
   "cell_type": "code",
   "execution_count": 14,
   "metadata": {},
   "outputs": [
    {
     "name": "stdout",
     "output_type": "stream",
     "text": [
      "     Match (team 1 v team 2)          team1         team2  \\\n",
      "0           QATAR vs ECUADOR          QATAR       ECUADOR   \n",
      "1            ENGLAND vs IRAN        ENGLAND          IRAN   \n",
      "2     SENEGAL vs NETHERLANDS        SENEGAL   NETHERLANDS   \n",
      "3     UNITED STATES vs WALES  UNITED STATES         WALES   \n",
      "4  ARGENTINA vs SAUDI ARABIA      ARGENTINA  SAUDI ARABIA   \n",
      "\n",
      "  Possession in contest  Goals team1  Goals team2  Goals in Match  \\\n",
      "0                    8%            0            2               2   \n",
      "1                    9%            6            2               8   \n",
      "2                   11%            0            2               2   \n",
      "3                   10%            1            1               2   \n",
      "4                   12%            1            2               3   \n",
      "\n",
      "   Total attempts team1  Total attempts team2  Goal preventions team1  \\\n",
      "0                     5                     6                       6   \n",
      "1                    13                     8                       8   \n",
      "2                    14                     9                       9   \n",
      "3                     6                     7                       7   \n",
      "4                    14                     3                       4   \n",
      "\n",
      "   Goal preventions team2  Score  Goal attempts in Match  \n",
      "0                       5  0 v 2                      11  \n",
      "1                      13  6 v 2                      21  \n",
      "2                      15  0 v 2                      23  \n",
      "3                       7  1 v 1                      13  \n",
      "4                      14  1 v 2                      17  \n"
     ]
    }
   ],
   "source": [
    "#Importing the CSV file\n",
    "import pandas as pd \n",
    "from tabulate import tabulate\n",
    "from sklearn.preprocessing import StandardScaler\n",
    "from sklearn.metrics.pairwise import cosine_similarity\n",
    "import numpy as np\n",
    "\n",
    "df = pd.read_csv(\"fifa_stats.csv\")\n",
    "df.columns = df.columns.str.strip()\n",
    "\n",
    "\n",
    "df['Match (team 1 v team 2)'] = df['team1'] + ' vs ' + df['team2']\n",
    "\n",
    "\n",
    "df['Goals team1'] = df['Goals team1'].astype(int)\n",
    "df['Goals team2'] = df['Goals team2'].astype(int)\n",
    "\n",
    "df ['Goals in Match'] = df['Goals team1'] + df['Goals team2']\n",
    "\n",
    "df['Goals in Match'] = df['Goals in Match'].astype(int)\n",
    "\n",
    "df['Score'] = df['Goals team1'].astype(str) + ' v ' + df['Goals team2'].astype(str)\n",
    "\n",
    "df ['Total attempts team1'] = df['Total attempts team1'].astype(int)\n",
    "df ['Total attempts team2'] = df['Total attempts team2'].astype(int)\n",
    "\n",
    "df[\"Goal attempts in Match\"] = df['Total attempts team1'] + df['Total attempts team2']\n",
    "\n",
    "df['Goal attempts in Match'] = df['Goal attempts in Match'].astype(int)\n",
    "\n",
    "cols = ['Match (team 1 v team 2)'] + [col for col in df.columns if col != 'Match (team 1 v team 2)']\n",
    "\n",
    "df = df[cols]\n",
    "\n",
    "\n",
    "\n",
    "first_column = cols[0]\n",
    "cols.remove('Goals in Match')\n",
    "idx = cols.index('Goals team2')\n",
    "cols.insert(idx + 1, 'Goals in Match')\n",
    "cols = [first_column] + cols[1:]\n",
    "df = df[cols]\n",
    "\n",
    "\n",
    "#df = df.drop(columns=['team1', 'team2'])\n",
    "\n",
    "\n",
    "print(df.head())"
   ]
  },
  {
   "cell_type": "code",
   "execution_count": 2,
   "metadata": {},
   "outputs": [
    {
     "name": "stdout",
     "output_type": "stream",
     "text": [
      "Average Possession: 11.91%\n"
     ]
    }
   ],
   "source": [
    "#Finding the Average Possession\n",
    "\n",
    "df['Possession in contest'] = df['Possession in contest'].str.rstrip('%').astype(float)\n",
    "\n",
    "avg_possession = df['Possession in contest'].mean()\n",
    "\n",
    "\n",
    "print(f\"Average Possession: {avg_possession:.2f}%\")\n"
   ]
  },
  {
   "cell_type": "code",
   "execution_count": 3,
   "metadata": {},
   "outputs": [
    {
     "name": "stdout",
     "output_type": "stream",
     "text": [
      "Average Match Goals: 2.6875\n"
     ]
    }
   ],
   "source": [
    "avg_Goals_in_match = df['Goals in Match'].mean()\n",
    "print(f\"Average Match Goals: {avg_Goals_in_match}\")"
   ]
  },
  {
   "cell_type": "code",
   "execution_count": 4,
   "metadata": {},
   "outputs": [
    {
     "name": "stdout",
     "output_type": "stream",
     "text": [
      "Average Match Goals Attempted: 22.421875\n"
     ]
    }
   ],
   "source": [
    "avg_Goals_attempted_in_match = df['Goal attempts in Match'].mean()\n",
    "print(f\"Average Match Goals Attempted: {avg_Goals_attempted_in_match}\")"
   ]
  },
  {
   "cell_type": "code",
   "execution_count": 5,
   "metadata": {},
   "outputs": [
    {
     "name": "stdout",
     "output_type": "stream",
     "text": [
      "+----+------------------------------+-------+----------------+------------------------+\n",
      "|    |   Match (team 1 v team 2)    | Score | Goals in Match | Goal attempts in Match |\n",
      "+----+------------------------------+-------+----------------+------------------------+\n",
      "| 1  |       ENGLAND vs IRAN        | 6 v 2 |       8        |           21           |\n",
      "| 4  |  ARGENTINA vs SAUDI ARABIA   | 1 v 2 |       3        |           17           |\n",
      "| 7  |     FRANCE vs AUSTRALIA      | 4 v 1 |       5        |           26           |\n",
      "| 9  |       GERMANY vs JAPAN       | 1 v 2 |       3        |           35           |\n",
      "| 14 |      PORTUGAL vs GHANA       | 3 v 2 |       5        |           19           |\n",
      "| 17 |       QATAR vs SENEGAL       | 1 v 3 |       4        |           22           |\n",
      "| 22 |      FRANCE vs DENMARK       | 2 v 1 |       3        |           31           |\n",
      "| 26 |      CROATIA vs CANADA       | 4 v 1 |       5        |           22           |\n",
      "| 28 |      CAMEROON vs SERBIA      | 3 v 3 |       6        |           29           |\n",
      "| 29 |   KOREA REPUBLIC vs GHANA    | 2 v 3 |       5        |           29           |\n",
      "| 33 |      ECUADOR vs SENEGAL      | 1 v 2 |       3        |           23           |\n",
      "| 39 |    SAUDI ARABIA vs MEXICO    | 1 v 2 |       3        |           35           |\n",
      "| 41 |      CANADA vs MOROCCO       | 1 v 2 |       3        |           12           |\n",
      "| 42 |        JAPAN vs SPAIN        | 2 v 1 |       3        |           20           |\n",
      "| 43 |    COSTA RICA vs GERMANY     | 2 v 4 |       6        |           40           |\n",
      "| 45 |  KOREA REPUBLIC vs PORTUGAL  | 2 v 1 |       3        |           24           |\n",
      "| 46 |    SERBIA vs SWITZERLAND     | 2 v 3 |       5        |           25           |\n",
      "| 48 | NETHERLANDS vs UNITED STATES | 3 v 1 |       4        |           29           |\n",
      "| 49 |    ARGENTINA vs AUSTRALIA    | 2 v 1 |       3        |           19           |\n",
      "| 50 |       FRANCE vs POLAND       | 3 v 1 |       4        |           27           |\n",
      "| 53 |   BRAZIL vs KOREA REPUBLIC   | 4 v 1 |       5        |           28           |\n",
      "| 55 |   PORTUGAL vs SWITZERLAND    | 6 v 1 |       7        |           24           |\n",
      "| 57 |   NETHERLANDS vs ARGENTINA   | 2 v 2 |       4        |           20           |\n",
      "| 59 |      ENGLAND vs FRANCE       | 1 v 2 |       3        |           23           |\n",
      "| 62 |      CROATIA vs MOROCCO      | 2 v 1 |       3        |           21           |\n",
      "| 63 |     ARGENTINA vs FRANCE      | 3 v 3 |       6        |           31           |\n",
      "+----+------------------------------+-------+----------------+------------------------+\n"
     ]
    }
   ],
   "source": [
    "match_competitve_goals_scored = df.loc[\n",
    "    (df['Goals in Match'] > avg_Goals_in_match) & \n",
    "    ((df['Goals in Match'] != df['Goals team1']) & (df['Goals in Match'] != df['Goals team2'])),\n",
    "    ['Match (team 1 v team 2)',\n",
    "    'Score',\n",
    "     'Goals in Match',\n",
    "     'Goal attempts in Match'\n",
    "     ]\n",
    "]\n",
    "    \n",
    "print(tabulate(match_competitve_goals_scored, headers='keys', tablefmt='pretty'))\n",
    "\n",
    "\n"
   ]
  },
  {
   "cell_type": "code",
   "execution_count": 6,
   "metadata": {},
   "outputs": [
    {
     "name": "stdout",
     "output_type": "stream",
     "text": [
      "+----+------------------------------+-------+-----------------------+\n",
      "|    |   Match (team 1 v team 2)    | Score | Possession in contest |\n",
      "+----+------------------------------+-------+-----------------------+\n",
      "| 4  |  ARGENTINA vs SAUDI ARABIA   | 1 v 2 |         12.0          |\n",
      "| 5  |      DENMARK vs TUNISIA      | 0 v 0 |         12.0          |\n",
      "| 6  |       MEXICO vs POLAND       | 0 v 0 |         15.0          |\n",
      "| 8  |      MOROCCO vs CROATIA      | 0 v 0 |         12.0          |\n",
      "| 9  |       GERMANY vs JAPAN       | 1 v 2 |         13.0          |\n",
      "| 13 |  URUGUAY vs KOREA REPUBLIC   | 0 v 0 |         13.0          |\n",
      "| 15 |       BRAZIL vs SERBIA       | 2 v 0 |         13.0          |\n",
      "| 16 |        WALES vs IRAN         | 0 v 2 |         16.0          |\n",
      "| 18 |    NETHERLANDS vs ECUADOR    | 1 v 1 |         13.0          |\n",
      "| 20 |     TUNISIA vs AUSTRALIA     | 0 v 1 |         19.0          |\n",
      "| 21 |    POLAND vs SAUDI ARABIA    | 2 v 0 |         14.0          |\n",
      "| 22 |      FRANCE vs DENMARK       | 2 v 1 |         12.0          |\n",
      "| 23 |     ARGENTINA vs MEXICO      | 2 v 0 |         14.0          |\n",
      "| 24 |     JAPAN vs COSTA RICA      | 0 v 1 |         13.0          |\n",
      "| 25 |      BELGIUM vs MOROCCO      | 0 v 2 |         12.0          |\n",
      "| 26 |      CROATIA vs CANADA       | 4 v 1 |         13.0          |\n",
      "| 28 |      CAMEROON vs SERBIA      | 3 v 3 |         13.0          |\n",
      "| 29 |   KOREA REPUBLIC vs GHANA    | 2 v 3 |         15.0          |\n",
      "| 31 |     PORTUGAL vs URUGUAY      | 2 v 0 |         12.0          |\n",
      "| 33 |      ECUADOR vs SENEGAL      | 1 v 2 |         17.0          |\n",
      "| 35 |    IRAN vs UNITED STATES     | 0 v 1 |         13.0          |\n",
      "| 36 |     AUSTRALIA vs DENMARK     | 1 v 0 |         16.0          |\n",
      "| 37 |      TUNISIA vs FRANCE       | 1 v 0 |         14.0          |\n",
      "| 39 |    SAUDI ARABIA vs MEXICO    | 1 v 2 |         17.0          |\n",
      "| 41 |      CANADA vs MOROCCO       | 1 v 2 |         12.0          |\n",
      "| 43 |    COSTA RICA vs GERMANY     | 2 v 4 |         13.0          |\n",
      "| 44 |       GHANA vs URUGUAY       | 0 v 2 |         15.0          |\n",
      "| 46 |    SERBIA vs SWITZERLAND     | 2 v 3 |         14.0          |\n",
      "| 47 |      CAMEROON vs BRAZIL      | 1 v 0 |         13.0          |\n",
      "| 48 | NETHERLANDS vs UNITED STATES | 3 v 1 |         13.0          |\n",
      "| 49 |    ARGENTINA vs AUSTRALIA    | 2 v 1 |         12.0          |\n",
      "| 52 |       JAPAN vs CROATIA       | 1 v 1 |         14.0          |\n",
      "| 58 |     MOROCCO vs PORTUGAL      | 1 v 0 |         13.0          |\n",
      "| 60 |     ARGENTINA vs CROATIA     | 3 v 0 |         12.0          |\n",
      "| 63 |     ARGENTINA vs FRANCE      | 3 v 3 |         14.0          |\n",
      "+----+------------------------------+-------+-----------------------+\n"
     ]
    }
   ],
   "source": [
    "match_competitve_possesion_contest =  df.loc[\n",
    "    (df['Possession in contest'] > avg_possession),\n",
    "    ['Match (team 1 v team 2)',\n",
    "     'Score',\n",
    "     'Possession in contest']\n",
    "]\n",
    "\n",
    "#print (match_competitve_possesion_contest.to_string(index=False))\n",
    "print(tabulate(match_competitve_possesion_contest, headers='keys', tablefmt='pretty'))\n"
   ]
  },
  {
   "cell_type": "code",
   "execution_count": 7,
   "metadata": {},
   "outputs": [
    {
     "name": "stdout",
     "output_type": "stream",
     "text": [
      "+----+------------------------------+-------+----------------+------------------------+\n",
      "|    |   Match (team 1 v team 2)    | Score | Goals in Match | Goal attempts in Match |\n",
      "+----+------------------------------+-------+----------------+------------------------+\n",
      "| 2  |    SENEGAL vs NETHERLANDS    | 0 v 2 |       2        |           23           |\n",
      "| 7  |     FRANCE vs AUSTRALIA      | 4 v 1 |       5        |           26           |\n",
      "| 9  |       GERMANY vs JAPAN       | 1 v 2 |       3        |           35           |\n",
      "| 11 |      BELGIUM vs CANADA       | 1 v 0 |       1        |           30           |\n",
      "| 15 |       BRAZIL vs SERBIA       | 2 v 0 |       2        |           28           |\n",
      "| 16 |        WALES vs IRAN         | 0 v 2 |       2        |           31           |\n",
      "| 21 |    POLAND vs SAUDI ARABIA    | 2 v 0 |       2        |           24           |\n",
      "| 22 |      FRANCE vs DENMARK       | 2 v 1 |       3        |           31           |\n",
      "| 28 |      CAMEROON vs SERBIA      | 3 v 3 |       6        |           29           |\n",
      "| 29 |   KOREA REPUBLIC vs GHANA    | 2 v 3 |       5        |           29           |\n",
      "| 31 |     PORTUGAL vs URUGUAY      | 2 v 0 |       2        |           24           |\n",
      "| 33 |      ECUADOR vs SENEGAL      | 1 v 2 |       3        |           23           |\n",
      "| 34 |       WALES vs ENGLAND       | 0 v 3 |       3        |           24           |\n",
      "| 38 |     POLAND vs ARGENTINA      | 0 v 2 |       2        |           29           |\n",
      "| 39 |    SAUDI ARABIA vs MEXICO    | 1 v 2 |       3        |           35           |\n",
      "| 40 |      CROATIA vs BELGIUM      | 0 v 0 |       0        |           26           |\n",
      "| 43 |    COSTA RICA vs GERMANY     | 2 v 4 |       6        |           40           |\n",
      "| 45 |  KOREA REPUBLIC vs PORTUGAL  | 2 v 1 |       3        |           24           |\n",
      "| 46 |    SERBIA vs SWITZERLAND     | 2 v 3 |       5        |           25           |\n",
      "| 47 |      CAMEROON vs BRAZIL      | 1 v 0 |       1        |           26           |\n",
      "| 48 | NETHERLANDS vs UNITED STATES | 3 v 1 |       4        |           29           |\n",
      "| 50 |       FRANCE vs POLAND       | 3 v 1 |       4        |           27           |\n",
      "| 52 |       JAPAN vs CROATIA       | 1 v 1 |       2        |           28           |\n",
      "| 53 |   BRAZIL vs KOREA REPUBLIC   | 4 v 1 |       5        |           28           |\n",
      "| 55 |   PORTUGAL vs SWITZERLAND    | 6 v 1 |       7        |           24           |\n",
      "| 56 |      CROATIA vs BRAZIL       | 1 v 1 |       2        |           29           |\n",
      "| 59 |      ENGLAND vs FRANCE       | 1 v 2 |       3        |           23           |\n",
      "| 61 |      FRANCE vs MOROCCO       | 2 v 0 |       2        |           27           |\n",
      "| 63 |     ARGENTINA vs FRANCE      | 3 v 3 |       6        |           31           |\n",
      "+----+------------------------------+-------+----------------+------------------------+\n"
     ]
    }
   ],
   "source": [
    "match_competitve_goals_attempts = df.loc[\n",
    "    (df['Goal attempts in Match'] > avg_Goals_attempted_in_match),\n",
    "    ['Match (team 1 v team 2)',\n",
    "     'Score',\n",
    "     'Goals in Match',\n",
    "     'Goal attempts in Match'\n",
    "    ]\n",
    "    \n",
    "]\n",
    "    \n",
    "#print(match_competitve_goals_attempts.to_string(index=False))\n",
    "\n",
    "print(tabulate(match_competitve_goals_attempts, headers='keys', tablefmt='pretty'))\n"
   ]
  },
  {
   "cell_type": "code",
   "execution_count": 8,
   "metadata": {},
   "outputs": [
    {
     "name": "stdout",
     "output_type": "stream",
     "text": [
      "+---+------------------------------+----------------+---------------+-------+------------------------+----------------+-----------------------+\n",
      "|   |   Match (team 1 v team 2)    |     team1      |     team2     | Score | Goal attempts in Match | Goals in Match | Possession in contest |\n",
      "+---+------------------------------+----------------+---------------+-------+------------------------+----------------+-----------------------+\n",
      "| 0 |       GERMANY vs JAPAN       |    GERMANY     |     JAPAN     | 1 v 2 |           35           |       3        |         13.0          |\n",
      "| 1 |      FRANCE vs DENMARK       |     FRANCE     |    DENMARK    | 2 v 1 |           31           |       3        |         12.0          |\n",
      "| 2 |      CAMEROON vs SERBIA      |    CAMEROON    |    SERBIA     | 3 v 3 |           29           |       6        |         13.0          |\n",
      "| 3 |   KOREA REPUBLIC vs GHANA    | KOREA REPUBLIC |     GHANA     | 2 v 3 |           29           |       5        |         15.0          |\n",
      "| 4 |      ECUADOR vs SENEGAL      |    ECUADOR     |    SENEGAL    | 1 v 2 |           23           |       3        |         17.0          |\n",
      "| 5 |    SAUDI ARABIA vs MEXICO    |  SAUDI ARABIA  |    MEXICO     | 1 v 2 |           35           |       3        |         17.0          |\n",
      "| 6 |    COSTA RICA vs GERMANY     |   COSTA RICA   |    GERMANY    | 2 v 4 |           40           |       6        |         13.0          |\n",
      "| 7 |    SERBIA vs SWITZERLAND     |     SERBIA     |  SWITZERLAND  | 2 v 3 |           25           |       5        |         14.0          |\n",
      "| 8 | NETHERLANDS vs UNITED STATES |  NETHERLANDS   | UNITED STATES | 3 v 1 |           29           |       4        |         13.0          |\n",
      "| 9 |     ARGENTINA vs FRANCE      |   ARGENTINA    |    FRANCE     | 3 v 3 |           31           |       6        |         14.0          |\n",
      "+---+------------------------------+----------------+---------------+-------+------------------------+----------------+-----------------------+\n"
     ]
    }
   ],
   "source": [
    "# Finding Common Matches across 3 standards\n",
    "set_goals_attempts = set(match_competitve_goals_attempts['Match (team 1 v team 2)'])\n",
    "set_goals_scored = set(match_competitve_goals_scored['Match (team 1 v team 2)'])\n",
    "set_possession_contest = set(match_competitve_possesion_contest['Match (team 1 v team 2)'])\n",
    "\n",
    "top_matches = set_goals_attempts & set_goals_scored & set_possession_contest\n",
    "\n",
    "df_top_matches = df[df['Match (team 1 v team 2)'].isin(top_matches)][[\n",
    "    'Match (team 1 v team 2)', \n",
    "    'team1',  \n",
    "    'team2',\n",
    "    'Score',\n",
    "    'Goal attempts in Match',           \n",
    "    'Goals in Match',            \n",
    "    'Possession in contest'        \n",
    "]].reset_index(drop=True)\n",
    "\n",
    "\n",
    "#print(df_top_matches.tostring(index=False))\n",
    "print(tabulate(df_top_matches, headers='keys', tablefmt='pretty'))\n"
   ]
  },
  {
   "cell_type": "code",
   "execution_count": 9,
   "metadata": {},
   "outputs": [
    {
     "name": "stdout",
     "output_type": "stream",
     "text": [
      "              Team  Appearances\n",
      "0          GERMANY            2\n",
      "1           FRANCE            2\n",
      "2           SERBIA            2\n",
      "3   KOREA REPUBLIC            1\n",
      "4         CAMEROON            1\n",
      "5          ECUADOR            1\n",
      "6     SAUDI ARABIA            1\n",
      "7       COSTA RICA            1\n",
      "8      NETHERLANDS            1\n",
      "9        ARGENTINA            1\n",
      "10           JAPAN            1\n",
      "11         DENMARK            1\n",
      "12           GHANA            1\n",
      "13         SENEGAL            1\n",
      "14          MEXICO            1\n",
      "15     SWITZERLAND            1\n",
      "16   UNITED STATES            1\n"
     ]
    }
   ],
   "source": [
    "team_counts = pd.concat([df_top_matches['team1'], df_top_matches['team2']]).value_counts()\n",
    "\n",
    "df_team_counts = team_counts.reset_index()\n",
    "df_team_counts.columns = ['Team', 'Appearances']\n",
    "\n",
    "print(df_team_counts)\n"
   ]
  },
  {
   "cell_type": "code",
   "execution_count": 10,
   "metadata": {},
   "outputs": [],
   "source": [
    "# Combine team1 and team2 data into long format\n",
    "team1_stats = df[['team1', 'Possession in contest', 'Goals team1',\n",
    "                  'Total attempts team1', 'Goal preventions team1']].copy()\n",
    "team1_stats.columns = ['Team', 'Possession', 'Goals', 'Total_Attempts', 'Goal_Preventions']\n",
    "\n",
    "team2_stats = df[['team2', 'Possession in contest', 'Goals team2',\n",
    "                  'Total attempts team2', 'Goal preventions team2']].copy()\n",
    "team2_stats.columns = ['Team', 'Possession', 'Goals', 'Total_Attempts', 'Goal_Preventions']\n",
    "\n",
    "df_teams = pd.concat([team1_stats, team2_stats], ignore_index=True)\n",
    "\n",
    "# Clean and convert Possession to float\n",
    "df_teams['Possession'] = df_teams['Possession'].astype(str).str.replace('%', '', regex=False)\n",
    "df_teams['Possession'] = pd.to_numeric(df_teams['Possession'], errors='coerce')\n",
    "\n",
    "# Average match stats per team\n",
    "team_profiles = df_teams.groupby('Team').mean()\n",
    "\n",
    "# Normalize\n",
    "scaler = StandardScaler()\n",
    "scaled_profiles = pd.DataFrame(\n",
    "    scaler.fit_transform(team_profiles),\n",
    "    index=team_profiles.index,\n",
    "    columns=team_profiles.columns\n",
    ")\n",
    "\n",
    "# Similarity matrix\n",
    "similarity_matrix = pd.DataFrame(\n",
    "    cosine_similarity(scaled_profiles),\n",
    "    index=scaled_profiles.index,\n",
    "    columns=scaled_profiles.index\n",
    ")"
   ]
  },
  {
   "cell_type": "code",
   "execution_count": 11,
   "metadata": {},
   "outputs": [
    {
     "name": "stdout",
     "output_type": "stream",
     "text": [
      "\n",
      "Top 10 Most Similar Teams to ARGENTINA:\n",
      "\n",
      "+----------------+--------------+---------+------------------+--------------------+--------------------+\n",
      "| Similar Team   |   Possession |   Goals |   Total_Attempts |   Goal_Preventions |   Similarity Score |\n",
      "+================+==============+=========+==================+====================+====================+\n",
      "| BRAZIL         |        10.8  |    1.6  |            18    |               6.8  |               0.83 |\n",
      "+----------------+--------------+---------+------------------+--------------------+--------------------+\n",
      "| SENEGAL        |        12.25 |    1.25 |            12.75 |               9    |               0.8  |\n",
      "+----------------+--------------+---------+------------------+--------------------+--------------------+\n",
      "| FRANCE         |        11.43 |    2.29 |            14.43 |              11.43 |               0.78 |\n",
      "+----------------+--------------+---------+------------------+--------------------+--------------------+\n",
      "| GERMANY        |        12.33 |    2    |            22.33 |               9    |               0.78 |\n",
      "+----------------+--------------+---------+------------------+--------------------+--------------------+\n",
      "| SPAIN          |         9.5  |    2.25 |            12.75 |               5.75 |               0.78 |\n",
      "+----------------+--------------+---------+------------------+--------------------+--------------------+\n",
      "| PORTUGAL       |        11    |    2.4  |            12.4  |              10.2  |               0.77 |\n",
      "+----------------+--------------+---------+------------------+--------------------+--------------------+\n",
      "| ENGLAND        |         9.8  |    2.6  |            12    |               9    |               0.7  |\n",
      "+----------------+--------------+---------+------------------+--------------------+--------------------+\n",
      "| IRAN           |        12.67 |    1.33 |            11.67 |              11.67 |               0.41 |\n",
      "+----------------+--------------+---------+------------------+--------------------+--------------------+\n",
      "| ECUADOR        |        12.67 |    1.33 |             9    |               7.33 |               0.4  |\n",
      "+----------------+--------------+---------+------------------+--------------------+--------------------+\n",
      "| MEXICO         |        15.33 |    0.67 |            14    |               7.67 |               0.21 |\n",
      "+----------------+--------------+---------+------------------+--------------------+--------------------+\n"
     ]
    }
   ],
   "source": [
    "np.fill_diagonal(similarity_matrix.values, 0)\n",
    "\n",
    "# Function to get top N similar teams using tabulate\n",
    "def get_similar_teams(team_name, top_n=10):\n",
    "    if team_name not in similarity_matrix.columns:\n",
    "        raise ValueError(f\"{team_name} not found in team list.\")\n",
    "\n",
    "    # Get similarity scores (excluding self)\n",
    "    similar_scores = similarity_matrix[team_name].drop(team_name).sort_values(ascending=False).head(top_n)\n",
    "    \n",
    "    # Get original (unnormalized) team stats\n",
    "    original_stats = team_profiles.loc[similar_scores.index]\n",
    "\n",
    "    # Build combined DataFrame\n",
    "    results = original_stats.copy()\n",
    "    results.insert(0, 'Similar Team', similar_scores.index)\n",
    "    results['Similarity Score'] = similar_scores.round(3)  \n",
    "    results = results.round(2)\n",
    "\n",
    "\n",
    "    # Create tabulated output\n",
    "    table_output = tabulate(results, headers='keys', tablefmt='grid', showindex=False)\n",
    "\n",
    "    return table_output, results\n",
    "\n",
    "table, df_similar = get_similar_teams(\"ARGENTINA\", top_n=10)\n",
    "print(f\"\\nTop 10 Most Similar Teams to ARGENTINA:\\n\")\n",
    "print(table)"
   ]
  },
  {
   "cell_type": "code",
   "execution_count": 12,
   "metadata": {},
   "outputs": [
    {
     "name": "stdout",
     "output_type": "stream",
     "text": [
      "\n",
      "Top 10 Most Similar Teams to FRANCE:\n",
      "\n",
      "+----------------+--------------+---------+------------------+--------------------+--------------------+\n",
      "| Similar Team   |   Possession |   Goals |   Total_Attempts |   Goal_Preventions |   Similarity Score |\n",
      "+================+==============+=========+==================+====================+====================+\n",
      "| PORTUGAL       |        11    |    2.4  |            12.4  |              10.2  |               0.92 |\n",
      "+----------------+--------------+---------+------------------+--------------------+--------------------+\n",
      "| ENGLAND        |         9.8  |    2.6  |            12    |               9    |               0.83 |\n",
      "+----------------+--------------+---------+------------------+--------------------+--------------------+\n",
      "| ARGENTINA      |        12    |    2.14 |            14.86 |               6.43 |               0.78 |\n",
      "+----------------+--------------+---------+------------------+--------------------+--------------------+\n",
      "| GERMANY        |        12.33 |    2    |            22.33 |               9    |               0.74 |\n",
      "+----------------+--------------+---------+------------------+--------------------+--------------------+\n",
      "| SPAIN          |         9.5  |    2.25 |            12.75 |               5.75 |               0.69 |\n",
      "+----------------+--------------+---------+------------------+--------------------+--------------------+\n",
      "| BRAZIL         |        10.8  |    1.6  |            18    |               6.8  |               0.67 |\n",
      "+----------------+--------------+---------+------------------+--------------------+--------------------+\n",
      "| KOREA REPUBLIC |        12    |    1.25 |            12.25 |              12.5  |               0.48 |\n",
      "+----------------+--------------+---------+------------------+--------------------+--------------------+\n",
      "| NETHERLANDS    |        11.2  |    2    |             8    |              13.4  |               0.37 |\n",
      "+----------------+--------------+---------+------------------+--------------------+--------------------+\n",
      "| SENEGAL        |        12.25 |    1.25 |            12.75 |               9    |               0.31 |\n",
      "+----------------+--------------+---------+------------------+--------------------+--------------------+\n",
      "| IRAN           |        12.67 |    1.33 |            11.67 |              11.67 |               0.27 |\n",
      "+----------------+--------------+---------+------------------+--------------------+--------------------+\n"
     ]
    }
   ],
   "source": [
    "table_output, df_results = get_similar_teams(\"FRANCE\", top_n=10)\n",
    "print(f\"\\nTop 10 Most Similar Teams to FRANCE:\\n\")\n",
    "print(table_output)\n"
   ]
  },
  {
   "cell_type": "code",
   "execution_count": 13,
   "metadata": {},
   "outputs": [
    {
     "name": "stdout",
     "output_type": "stream",
     "text": [
      "\n",
      "Top 10 Most Similar Teams to GERMANY :\n",
      "\n",
      "+----------------+--------------+---------+------------------+--------------------+--------------------+\n",
      "| Similar Team   |   Possession |   Goals |   Total_Attempts |   Goal_Preventions |   Similarity Score |\n",
      "+================+==============+=========+==================+====================+====================+\n",
      "| BRAZIL         |        10.8  |    1.6  |            18    |               6.8  |               0.87 |\n",
      "+----------------+--------------+---------+------------------+--------------------+--------------------+\n",
      "| ARGENTINA      |        12    |    2.14 |            14.86 |               6.43 |               0.78 |\n",
      "+----------------+--------------+---------+------------------+--------------------+--------------------+\n",
      "| FRANCE         |        11.43 |    2.29 |            14.43 |              11.43 |               0.74 |\n",
      "+----------------+--------------+---------+------------------+--------------------+--------------------+\n",
      "| KOREA REPUBLIC |        12    |    1.25 |            12.25 |              12.5  |               0.72 |\n",
      "+----------------+--------------+---------+------------------+--------------------+--------------------+\n",
      "| SENEGAL        |        12.25 |    1.25 |            12.75 |               9    |               0.7  |\n",
      "+----------------+--------------+---------+------------------+--------------------+--------------------+\n",
      "| IRAN           |        12.67 |    1.33 |            11.67 |              11.67 |               0.54 |\n",
      "+----------------+--------------+---------+------------------+--------------------+--------------------+\n",
      "| PORTUGAL       |        11    |    2.4  |            12.4  |              10.2  |               0.5  |\n",
      "+----------------+--------------+---------+------------------+--------------------+--------------------+\n",
      "| SPAIN          |         9.5  |    2.25 |            12.75 |               5.75 |               0.42 |\n",
      "+----------------+--------------+---------+------------------+--------------------+--------------------+\n",
      "| ENGLAND        |         9.8  |    2.6  |            12    |               9    |               0.38 |\n",
      "+----------------+--------------+---------+------------------+--------------------+--------------------+\n",
      "| MEXICO         |        15.33 |    0.67 |            14    |               7.67 |               0.32 |\n",
      "+----------------+--------------+---------+------------------+--------------------+--------------------+\n"
     ]
    }
   ],
   "source": [
    "\n",
    "table_output, df_results = get_similar_teams(\"GERMANY\", top_n=10)\n",
    "print(f\"\\nTop 10 Most Similar Teams to GERMANY :\\n\")\n",
    "print(table_output)\n"
   ]
  },
  {
   "cell_type": "code",
   "execution_count": 15,
   "metadata": {},
   "outputs": [],
   "source": [
    "def get_similar_to_group(team_list, top_n=10):\n",
    "    # Check all teams exist\n",
    "    for team in team_list:\n",
    "        if team not in scaled_profiles.index:\n",
    "            raise ValueError(f\"{team} not found in scaled_profiles.\")\n",
    "\n",
    "    # Get the average feature vector for the group\n",
    "    group_vector = scaled_profiles.loc[team_list].mean(axis=0).values.reshape(1, -1)\n",
    "\n",
    "    # Compute cosine similarity to all teams\n",
    "    all_teams = scaled_profiles.index\n",
    "    all_vectors = scaled_profiles.values\n",
    "    similarities = cosine_similarity(group_vector, all_vectors).flatten()\n",
    "\n",
    "    # Build DataFrame of results\n",
    "    results = pd.DataFrame({\n",
    "        'Team': all_teams,\n",
    "        'Similarity Score': similarities\n",
    "    })\n",
    "\n",
    "    # Exclude original group teams\n",
    "    results = results[~results['Team'].isin(team_list)]\n",
    "\n",
    "    # Sort and get top N\n",
    "    results = results.sort_values(by='Similarity Score', ascending=False).head(top_n).reset_index(drop=True)\n",
    "\n",
    "    return results"
   ]
  },
  {
   "cell_type": "code",
   "execution_count": 16,
   "metadata": {},
   "outputs": [
    {
     "name": "stdout",
     "output_type": "stream",
     "text": [
      "+----------------+--------------------+\n",
      "| Team           |   Similarity Score |\n",
      "+================+====================+\n",
      "| BRAZIL         |          0.875553  |\n",
      "+----------------+--------------------+\n",
      "| PORTUGAL       |          0.743459  |\n",
      "+----------------+--------------------+\n",
      "| SENEGAL        |          0.686901  |\n",
      "+----------------+--------------------+\n",
      "| SPAIN          |          0.643696  |\n",
      "+----------------+--------------------+\n",
      "| ENGLAND        |          0.631218  |\n",
      "+----------------+--------------------+\n",
      "| KOREA REPUBLIC |          0.538358  |\n",
      "+----------------+--------------------+\n",
      "| IRAN           |          0.472264  |\n",
      "+----------------+--------------------+\n",
      "| CROATIA        |          0.165333  |\n",
      "+----------------+--------------------+\n",
      "| MEXICO         |          0.158457  |\n",
      "+----------------+--------------------+\n",
      "| ECUADOR        |          0.0163835 |\n",
      "+----------------+--------------------+\n"
     ]
    }
   ],
   "source": [
    "group_similar = get_similar_to_group(['ARGENTINA', 'FRANCE', 'GERMANY'], top_n=10)\n",
    "print(tabulate(group_similar, headers='keys', tablefmt='grid', showindex=False))"
   ]
  }
 ],
 "metadata": {
  "kernelspec": {
   "display_name": "Python 3 (ipykernel)",
   "language": "python",
   "name": "python3"
  },
  "language_info": {
   "codemirror_mode": {
    "name": "ipython",
    "version": 3
   },
   "file_extension": ".py",
   "mimetype": "text/x-python",
   "name": "python",
   "nbconvert_exporter": "python",
   "pygments_lexer": "ipython3",
   "version": "3.12.1"
  }
 },
 "nbformat": 4,
 "nbformat_minor": 4
}
